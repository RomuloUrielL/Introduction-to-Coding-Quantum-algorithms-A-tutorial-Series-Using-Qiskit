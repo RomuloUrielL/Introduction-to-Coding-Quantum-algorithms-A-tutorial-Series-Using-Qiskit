{
 "cells": [
  {
   "cell_type": "code",
   "execution_count": 6,
   "id": "97b804c1",
   "metadata": {},
   "outputs": [],
   "source": [
    "#Esse código está fazendo a mesma coisa que o código anterior (onde nós from qiskit_aer import StatevectorSimulator), mas usando um método mais \n",
    "#antigo e \"manual\".\n",
    "\n",
    "#Hoje em dia, é mais comum e mais limpo importar a classe do simulador diretamente (ex: from qiskit_aer import StatevectorSimulator)"
   ]
  },
  {
   "cell_type": "code",
   "execution_count": 7,
   "id": "41a7ab7e",
   "metadata": {},
   "outputs": [
    {
     "name": "stdout",
     "output_type": "stream",
     "text": [
      "Simulator:  StatevectorSimulator('statevector_simulator') \n",
      "\n",
      "Simulator type:  <class 'qiskit_aer.backends.statevector_simulator.StatevectorSimulator'> \n",
      "\n",
      "Aer.beckend(name=statevector_simulator):  [StatevectorSimulator('statevector_simulator')]\n"
     ]
    }
   ],
   "source": [
    "from qiskit import QuantumRegister, QuantumCircuit\n",
    "from qiskit_aer import StatevectorSimulator, QasmSimulator, Aer\n",
    "\n",
    "#Aer.backends(...): Esta função \"pergunta\" ao gerenciador Aer quais simuladores (backends) ele tem disponíveis.\n",
    "#name='statevector_simulator': nós estamos filtrando a lista, pedindo apenas os backends que têm o nome exato de 'statevector_simulator'.\n",
    "#(...): A função Aer.backends() sempre retorna uma lista (list) de resultados, mesmo que encontre apenas um.\n",
    "#[0]: Como a função retorna uma lista (por exemplo: [<StatevectorSimulator...>]), nós usamos o [0] para pegar o primeiro item dessa lista.\n",
    "\n",
    "S_simulator = Aer.backends(name='statevector_simulator')[0]\n",
    "\n",
    "print('Simulator: ', S_simulator, '\\n')\n",
    "print('Simulator type: ', type(S_simulator), '\\n')\n",
    "print('Aer.beckend(name=statevector_simulator): ', Aer.backends(name='statevector_simulator'))"
   ]
  },
  {
   "cell_type": "code",
   "execution_count": 8,
   "id": "d508295f",
   "metadata": {},
   "outputs": [
    {
     "name": "stdout",
     "output_type": "stream",
     "text": [
      "job = AerJob class:  <class 'qiskit_aer.jobs.aerjob.AerJob'>\n",
      "result = Result class:  <class 'qiskit.result.result.Result'>\n",
      "Statevector([1.+0.j, 0.+0.j],\n",
      "            dims=(2,))\n"
     ]
    }
   ],
   "source": [
    "q = QuantumRegister(1)\n",
    "hello_qubit = QuantumCircuit(q)\n",
    "\n",
    "job = S_simulator.run(hello_qubit)\n",
    "print('job = AerJob class: ', type(job))\n",
    "result = job.result()\n",
    "print('result = Result class: ', type(result))\n",
    "result.get_statevector()"
   ]
  }
 ],
 "metadata": {
  "kernelspec": {
   "display_name": ".venv",
   "language": "python",
   "name": "python3"
  },
  "language_info": {
   "codemirror_mode": {
    "name": "ipython",
    "version": 3
   },
   "file_extension": ".py",
   "mimetype": "text/x-python",
   "name": "python",
   "nbconvert_exporter": "python",
   "pygments_lexer": "ipython3",
   "version": "3.12.10"
  }
 },
 "nbformat": 4,
 "nbformat_minor": 5
}
