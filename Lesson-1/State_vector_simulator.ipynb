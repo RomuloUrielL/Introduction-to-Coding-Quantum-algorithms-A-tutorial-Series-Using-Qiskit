{
 "cells": [
  {
   "cell_type": "code",
   "execution_count": 11,
   "id": "41a7ab7e",
   "metadata": {},
   "outputs": [
    {
     "name": "stdout",
     "output_type": "stream",
     "text": [
      "Simulator:  StatevectorSimulator('statevector_simulator') \n",
      "\n",
      "Simulator type:  <class 'qiskit_aer.backends.statevector_simulator.StatevectorSimulator'> \n",
      "\n",
      "Aer.beckend(name=statevector_simulator):  [StatevectorSimulator('statevector_simulator')]\n"
     ]
    }
   ],
   "source": [
    "from qiskit import QuantumRegister, QuantumCircuit\n",
    "from qiskit_aer import StatevectorSimulator, QasmSimulator, Aer\n",
    "\n",
    "S_simulator = Aer.backends(name='statevector_simulator')[0]\n",
    "\n",
    "print('Simulator: ', S_simulator, '\\n')\n",
    "print('Simulator type: ', type(S_simulator), '\\n')\n",
    "print('Aer.beckend(name=statevector_simulator): ', Aer.backends(name='statevector_simulator'))"
   ]
  },
  {
   "cell_type": "code",
   "execution_count": 12,
   "id": "d508295f",
   "metadata": {},
   "outputs": [
    {
     "name": "stdout",
     "output_type": "stream",
     "text": [
      "job = AerJob class:  <class 'qiskit_aer.jobs.aerjob.AerJob'>\n",
      "result = Result class:  <class 'qiskit.result.result.Result'>\n",
      "Statevector([1.+0.j, 0.+0.j],\n",
      "            dims=(2,))\n"
     ]
    }
   ],
   "source": [
    "q = QuantumRegister(1)\n",
    "hello_qubit = QuantumCircuit(q)\n",
    "\n",
    "job = S_simulator.run(hello_qubit)\n",
    "print('job = AerJob class: ', type(job))\n",
    "result = job.result()\n",
    "print('result = Result class: ', type(result))\n",
    "result.get_statevector()"
   ]
  }
 ],
 "metadata": {
  "kernelspec": {
   "display_name": ".venv",
   "language": "python",
   "name": "python3"
  },
  "language_info": {
   "codemirror_mode": {
    "name": "ipython",
    "version": 3
   },
   "file_extension": ".py",
   "mimetype": "text/x-python",
   "name": "python",
   "nbconvert_exporter": "python",
   "pygments_lexer": "ipython3",
   "version": "3.12.10"
  }
 },
 "nbformat": 4,
 "nbformat_minor": 5
}
