{
 "cells": [
  {
   "cell_type": "code",
   "execution_count": 26,
   "id": "e61503c3",
   "metadata": {},
   "outputs": [],
   "source": [
    "#Nesse experimento, vamos criar um simples estado |Ψ> que contém 3 qubits, todos no estado |0>, ou seja temos o seguinte estado inicial: |Ψ> = |000> ."
   ]
  },
  {
   "cell_type": "code",
   "execution_count": 27,
   "id": "ded109bd",
   "metadata": {},
   "outputs": [
    {
     "name": "stdout",
     "output_type": "stream",
     "text": [
      "Statevector([1.+0.j, 0.+0.j, 0.+0.j, 0.+0.j, 0.+0.j, 0.+0.j, 0.+0.j,\n",
      "             0.+0.j],\n",
      "            dims=(2, 2, 2))\n"
     ]
    }
   ],
   "source": [
    "from qiskit import QuantumRegister, QuantumCircuit\n",
    "from qiskit_aer import StatevectorSimulator, QasmSimulator\n",
    "\n",
    "S_simulator = StatevectorSimulator()\n",
    "\n",
    "q = QuantumRegister(3)  # Criando um registrador quântico com 3 qubits\n",
    "three_qubits = QuantumCircuit(q)  # Criando um circuito quântico com o registrador criado\n",
    "\n",
    "# Aplicando a porta identidade em cada qubit que não altera o estado do qubit\n",
    "three_qubits.id(q[0])\n",
    "three_qubits.id(q[1])\n",
    "three_qubits.id(q[2]) \n",
    "\n",
    "job = S_simulator.run(three_qubits) #Simulando o circuitor quântico\n",
    "result = job.result() #armazenando o resultado da simulação\n",
    "result.get_statevector() # Exibindo o estado final do sistema quântico"
   ]
  },
  {
   "cell_type": "code",
   "execution_count": 28,
   "id": "3cc1ccfc",
   "metadata": {},
   "outputs": [],
   "source": [
    "#Podemos interpretar o resultado em que temos probabilidade 1 de medir o estado |000> e probabilidade 0 de medir qualquer outros estado possível em um sistema\n",
    "#quântico com 3 bits: |001>, |010>, |011>, |100>, |101>, |110> e |111>."
   ]
  },
  {
   "cell_type": "code",
   "execution_count": 29,
   "id": "02da2db3",
   "metadata": {},
   "outputs": [],
   "source": [
    "#Devemos observar que abaixo que na indexação do qiskit, os qubits menos significativos estão à esquerda. ou seja, o estado |100> está localização no indice 1\n",
    "#da array retornada."
   ]
  },
  {
   "cell_type": "code",
   "execution_count": 30,
   "id": "17dbdb73",
   "metadata": {},
   "outputs": [
    {
     "name": "stdout",
     "output_type": "stream",
     "text": [
      "Statevector([0.+0.j, 1.+0.j, 0.+0.j, 0.+0.j, 0.+0.j, 0.+0.j, 0.+0.j,\n",
      "             0.+0.j],\n",
      "            dims=(2, 2, 2))\n"
     ]
    }
   ],
   "source": [
    "c = QuantumRegister(3)\n",
    "three_qubits_2 = QuantumCircuit(c)\n",
    "\n",
    "three_qubits_2.x(c[0])\n",
    "three_qubits_2.id(c[1])\n",
    "three_qubits_2.id(c[2])\n",
    "\n",
    "job_2 = S_simulator.run(three_qubits_2)\n",
    "result_2 = job_2.result()\n",
    "result_2.get_statevector()\n"
   ]
  },
  {
   "cell_type": "code",
   "execution_count": 31,
   "id": "7d86571c",
   "metadata": {},
   "outputs": [],
   "source": [
    "#Note que trabalhar com essas arrays não são as coisas mais fáceis a se trabalhar, então temos um alternativa para trabalharmos melhor.\n",
    "#Melhor do que trabalhar com essas arrays de vetores de estado, vamos importar um função chamada Wavefuntion"
   ]
  },
  {
   "cell_type": "code",
   "execution_count": 32,
   "id": "081b088f",
   "metadata": {},
   "outputs": [
    {
     "name": "stdout",
     "output_type": "stream",
     "text": [
      "1.0 |000⟩  \n"
     ]
    }
   ],
   "source": [
    "from biblioteca import Wavefunction\n",
    "d = QuantumRegister(3)\n",
    "three_qubits_3 = QuantumCircuit(d)\n",
    "\n",
    "three_qubits_3.id(d[0])\n",
    "three_qubits_3.id(d[1])\n",
    "three_qubits_3.id(d[2])\n",
    "\n",
    "Wavefunction(three_qubits_3)"
   ]
  },
  {
   "cell_type": "code",
   "execution_count": 33,
   "id": "4fe94da8",
   "metadata": {},
   "outputs": [],
   "source": [
    "#Essa função customizada (Wavefunction) nos permite visualizar os estados dos nosso sistema na notação padrão de Dirac (ket). E, além disso, nós precisamos apenas passar o circuito como argumento da função."
   ]
  }
 ],
 "metadata": {
  "kernelspec": {
   "display_name": ".venv",
   "language": "python",
   "name": "python3"
  },
  "language_info": {
   "codemirror_mode": {
    "name": "ipython",
    "version": 3
   },
   "file_extension": ".py",
   "mimetype": "text/x-python",
   "name": "python",
   "nbconvert_exporter": "python",
   "pygments_lexer": "ipython3",
   "version": "3.12.10"
  }
 },
 "nbformat": 4,
 "nbformat_minor": 5
}
