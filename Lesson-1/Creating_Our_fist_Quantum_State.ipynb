{
 "cells": [
  {
   "cell_type": "code",
   "execution_count": 1,
   "id": "98ed6bf0",
   "metadata": {},
   "outputs": [],
   "source": [
    "#Neste primeiro experimento vamos começar com um simples sistema quântico |Ψ> = |0>\n",
    "#Esse é um sistema quântico de 1 qubit no estado |0>. Vamos considera-lo como um \"Hello World\" na progamação com qubits."
   ]
  },
  {
   "cell_type": "code",
   "execution_count": 2,
   "id": "277102b7",
   "metadata": {},
   "outputs": [],
   "source": [
    "#Entendendo o código:\n",
    "\n",
    "#começando pelos imports(esses imports é oque nos permite criar e visualizar os sistemas quânticos que estamos trabalhando):\n",
    "#from qiskit import QuantumRegister, QuantumCircuit\n",
    "#->QuantumRegister: É uma classe que guarda nossos qubits. Quando formos realizar operações com portas no nosso sistema, nós vamos chamar os índice de \n",
    "# QuantumRegister correspondente ao qubit que nós estamos interessados.\n",
    "#\n",
    "#->QuantumCircuit: Esta é uma classe que pode ser considerada como nossas \"instruções\" para o sistema quântico. Como queremos realizar o design de maiores \n",
    "#algoritmos e mais complexos, nós vamos armazenar nossas operações no QunatumCircuits que podemos então chamar por simuladores para executá-los posteriormente.\n",
    "#\n",
    "#->qiskit_aer: Esá é uma classe que lida com o uso de backends de simuladores clássicos. Nós vamos resolver todos os tutorias via simulações clássicas, então \n",
    "# usaremos essa classe com regularidade.\n",
    "#\n",
    "#-> .run: é o que permite nós executarmos as operações que estão no QuantumCircuits.\n",
    "#\n",
    "#->StatevectorSimulator(): Ele não é um simulador real, ele é um simulador matemático. Ele calcula o vetor exato do estado do seu sistema.\n",
    "# ->QasmSimulator(): Este simulador imita um hardware real. Ele simula o circuito várias vezes (shots) e retorna contagens simulando o colapso da função de onda. \n"
   ]
  },
  {
   "cell_type": "code",
   "execution_count": 3,
   "id": "39a172ad",
   "metadata": {},
   "outputs": [],
   "source": [
    "#----Template para o fluxo básico de criação de algoritmos quânticos--------\n",
    "#1) Defina quantos qubits serão usados.\n",
    "#2) Armazene os qubits em um QuantumRegister.\n",
    "#3) Crie um QuantumCircuit usando todos (ou apenas alguns) qubits no nosso QuantumRegister.\n",
    "#4) Aplique portas, medições, etc."
   ]
  },
  {
   "cell_type": "code",
   "execution_count": 4,
   "id": "b0fecfda",
   "metadata": {},
   "outputs": [
    {
     "name": "stdout",
     "output_type": "stream",
     "text": [
      "Statevector([1.+0.j, 0.+0.j],\n",
      "            dims=(2,))\n"
     ]
    }
   ],
   "source": [
    "from qiskit import QuantumRegister, QuantumCircuit\n",
    "from qiskit_aer import StatevectorSimulator, QasmSimulator\n",
    "\n",
    "S_simulator = StatevectorSimulator() #cria uma instância do simulador\n",
    "\n",
    "q = QuantumRegister(1) # cria o espaço onde nós vamos guardar nossos qubits e especificamos que queremos guardar 1 qubit.\n",
    "hello_qubit = QuantumCircuit(q) #criamos nosso circuito quântico chamando de hello_qubit e passamos q dizendo \"use os qubits desse espaço\"\n",
    "\n",
    "hello_qubit.id(q[0]) #aplicamos no qubit a porta identidade, que não faz nada nosso qubit e especificamos o indice do qubit que queremos aplicar essa porta\n",
    "\n",
    "job = S_simulator.run(hello_qubit) #Este é o comando execute. Nós estamos pegando nosso circuito quântico hello_qubit e entregando ao simulador S_simulator que\n",
    "#retorna um objeto job que rastreia o status da simulação.\n",
    "result = job.result() #Pedimos para o job esperar a conclusão e, em seguida, buscar os resultados da simulação. O objeto result contém todos os resultados da simulação.\n",
    "result.get_statevector() #Aqui nós estamos dizendo ao objeto result: \"Como eu usei um StatevectorSimulator, por favor, me dê o vetor de estado final.\""
   ]
  }
 ],
 "metadata": {
  "kernelspec": {
   "display_name": ".venv",
   "language": "python",
   "name": "python3"
  },
  "language_info": {
   "codemirror_mode": {
    "name": "ipython",
    "version": 3
   },
   "file_extension": ".py",
   "mimetype": "text/x-python",
   "name": "python",
   "nbconvert_exporter": "python",
   "pygments_lexer": "ipython3",
   "version": "3.12.10"
  }
 },
 "nbformat": 4,
 "nbformat_minor": 5
}
