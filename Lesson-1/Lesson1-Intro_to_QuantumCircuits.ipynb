{
 "cells": [
  {
   "cell_type": "code",
   "execution_count": null,
   "id": "e9ce0857",
   "metadata": {},
   "outputs": [],
   "source": [
    "#Esses são os imports básicos para iniciarmos um códig em Qiskit"
   ]
  },
  {
   "cell_type": "code",
   "execution_count": 1,
   "id": "650af495",
   "metadata": {},
   "outputs": [],
   "source": [
    "from qiskit import ClassicalRegister, QuantumRegister, QuantumCircuit\n",
    "from qiskit_aer import StatevectorSimulator, QasmSimulator\n",
    "import numpy as np\n",
    "import math as m\n",
    "S_simulator = StatevectorSimulator()\n",
    "M_simulator = QasmSimulator()"
   ]
  }
 ],
 "metadata": {
  "kernelspec": {
   "display_name": ".venv",
   "language": "python",
   "name": "python3"
  },
  "language_info": {
   "codemirror_mode": {
    "name": "ipython",
    "version": 3
   },
   "file_extension": ".py",
   "mimetype": "text/x-python",
   "name": "python",
   "nbconvert_exporter": "python",
   "pygments_lexer": "ipython3",
   "version": "3.12.10"
  }
 },
 "nbformat": 4,
 "nbformat_minor": 5
}
