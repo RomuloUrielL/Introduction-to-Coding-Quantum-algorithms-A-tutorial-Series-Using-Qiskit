{
 "cells": [
  {
   "cell_type": "code",
   "execution_count": 1,
   "id": "b9a7f327",
   "metadata": {},
   "outputs": [
    {
     "data": {
      "text/plain": [
       "<qiskit.circuit.instructionset.InstructionSet at 0x21708991c00>"
      ]
     },
     "execution_count": 1,
     "metadata": {},
     "output_type": "execute_result"
    }
   ],
   "source": [
    "from qiskit import QuantumRegister, ClassicalRegister, QuantumCircuit # <-- Adicione ClassicalRegister\n",
    "from qiskit_aer import Aer \n",
    "\n",
    "# Crie os dois registros\n",
    "q = QuantumRegister(1, 'q')\n",
    "c = ClassicalRegister(1, 'c') # <-- 1. Crie 1 bit clássico\n",
    "\n",
    "# Adicione os dois registros ao circuito\n",
    "hello_qubit = QuantumCircuit(q, c) # <-- 2. Diga ao circuito para usar ambos\n",
    "\n",
    "# Aplique sua porta (gate)\n",
    "hello_qubit.id(q[0]) \n",
    "\n",
    "# Adicione a medição\n",
    "hello_qubit.measure(q, c) # <-- 3. Meça o registro quântico (q) e salve no clássico (c)"
   ]
  },
  {
   "cell_type": "code",
   "execution_count": 3,
   "id": "b53007fa",
   "metadata": {},
   "outputs": [
    {
     "name": "stdout",
     "output_type": "stream",
     "text": [
      "{'0': 1024}\n"
     ]
    }
   ],
   "source": [
    "# Para simular o circuito\n",
    "backend = Aer.get_backend('qasm_simulator')\n",
    "job = backend.run(hello_qubit, shots=1024)\n",
    "result = job.result()\n",
    "\n",
    "# Para ver os resultados (contagens)\n",
    "counts = result.get_counts()\n",
    "print(counts)"
   ]
  }
 ],
 "metadata": {
  "kernelspec": {
   "display_name": ".venv",
   "language": "python",
   "name": "python3"
  },
  "language_info": {
   "codemirror_mode": {
    "name": "ipython",
    "version": 3
   },
   "file_extension": ".py",
   "mimetype": "text/x-python",
   "name": "python",
   "nbconvert_exporter": "python",
   "pygments_lexer": "ipython3",
   "version": "3.12.10"
  }
 },
 "nbformat": 4,
 "nbformat_minor": 5
}
